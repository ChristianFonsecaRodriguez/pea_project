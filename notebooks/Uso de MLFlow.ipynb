{
 "cells": [
  {
   "cell_type": "code",
   "execution_count": 1,
   "id": "2a376084",
   "metadata": {},
   "outputs": [],
   "source": [
    "import mlflow\n",
    "import pandas as pd"
   ]
  },
  {
   "cell_type": "code",
   "execution_count": 2,
   "id": "7254e6c4",
   "metadata": {},
   "outputs": [],
   "source": [
    "# No incluir columnas\n",
    "exclude = ['Posted On', 'Area Locality','Floor']\n",
    "data = pd.read_csv('raw.csv')"
   ]
  },
  {
   "cell_type": "code",
   "execution_count": 6,
   "id": "30540d0c",
   "metadata": {},
   "outputs": [],
   "source": [
    "# mlflow.set_tracking_uri('http://127.0.0.1:5000')\n",
    "mlflow.set_tracking_uri('http://ec2-54-165-160-184.compute-1.amazonaws.com:5000')"
   ]
  },
  {
   "cell_type": "code",
   "execution_count": 7,
   "id": "c1a5a9f9",
   "metadata": {},
   "outputs": [],
   "source": [
    "client = mlflow.tracking.MlflowClient()"
   ]
  },
  {
   "cell_type": "code",
   "execution_count": 15,
   "id": "6075d3e0",
   "metadata": {},
   "outputs": [],
   "source": [
    "experiments = (client.search_experiments())\n",
    "experiment  = list(filter(lambda k: k.name == 'model_rent_lgbm', experiments))[0]\n",
    "experiment_id = experiment.experiment_id"
   ]
  },
  {
   "cell_type": "code",
   "execution_count": 17,
   "id": "6f5f90e8",
   "metadata": {},
   "outputs": [],
   "source": [
    "from mlflow.entities import ViewType\n",
    "runs = mlflow.MlflowClient().search_runs(\n",
    "    experiment_ids=experiment_id,\n",
    "    filter_string='',\n",
    "    max_results=3,\n",
    "    order_by=['metrics.MAE ASC'],\n",
    "    run_view_type=ViewType.ACTIVE_ONLY\n",
    ")"
   ]
  },
  {
   "cell_type": "code",
   "execution_count": 19,
   "id": "94067281",
   "metadata": {},
   "outputs": [],
   "source": [
    "run = runs[0]"
   ]
  },
  {
   "cell_type": "code",
   "execution_count": 21,
   "id": "6887f6d5",
   "metadata": {},
   "outputs": [],
   "source": [
    "run_id = run.data.tags['Run ID']"
   ]
  },
  {
   "cell_type": "code",
   "execution_count": 23,
   "id": "70393aec",
   "metadata": {},
   "outputs": [
    {
     "data": {
      "application/vnd.jupyter.widget-view+json": {
       "model_id": "ed3c47f8521b49f5b3a0057ffb1335f1",
       "version_major": 2,
       "version_minor": 0
      },
      "text/plain": [
       "Downloading artifacts:   0%|          | 0/5 [00:00<?, ?it/s]"
      ]
     },
     "metadata": {},
     "output_type": "display_data"
    },
    {
     "name": "stdout",
     "output_type": "stream",
     "text": [
      "[LightGBM] [Warning] feature_fraction is set=1.0, colsample_bytree=1.0 will be ignored. Current value: feature_fraction=1.0\n",
      "[LightGBM] [Warning] bagging_fraction is set=0.6, subsample=1.0 will be ignored. Current value: bagging_fraction=0.6\n",
      "[LightGBM] [Warning] bagging_freq is set=2, subsample_freq=0 will be ignored. Current value: bagging_freq=2\n"
     ]
    },
    {
     "data": {
      "text/plain": [
       "array([12677.37053666, 11971.8159973 ,  8980.08247125, ...,\n",
       "       38607.39258275, 28713.4683281 , 16998.8463084 ])"
      ]
     },
     "execution_count": 23,
     "metadata": {},
     "output_type": "execute_result"
    }
   ],
   "source": [
    "logged_model = f'runs:/{run_id}/model'\n",
    "\n",
    "# Load model as a PyFuncModel.\n",
    "loaded_model = mlflow.pyfunc.load_model(logged_model)\n",
    "\n",
    "# Predict on a Pandas DataFrame.\n",
    "\n",
    "loaded_model.predict(data.drop(columns=exclude+['Rent']))"
   ]
  },
  {
   "cell_type": "code",
   "execution_count": 25,
   "id": "ae0d05e7",
   "metadata": {},
   "outputs": [
    {
     "name": "stderr",
     "output_type": "stream",
     "text": [
      "Registered model 'rent_model' already exists. Creating a new version of this model...\n",
      "2023/11/02 20:43:28 INFO mlflow.store.model_registry.abstract_store: Waiting up to 300 seconds for model version to finish creation. Model name: rent_model, version 2\n",
      "Created version '2' of model 'rent_model'.\n"
     ]
    },
    {
     "data": {
      "text/plain": [
       "<ModelVersion: aliases=[], creation_timestamp=1698975808151, current_stage='None', description='', last_updated_timestamp=1698975808151, name='rent_model', run_id='2ca1701d1142453f97a6dd7d88669748', run_link='', source='s3://pea-dmc-bucket/879546609870824623/2ca1701d1142453f97a6dd7d88669748/artifacts/model', status='READY', status_message='', tags={}, user_id='', version='2'>"
      ]
     },
     "execution_count": 25,
     "metadata": {},
     "output_type": "execute_result"
    }
   ],
   "source": [
    "mlflow.register_model(f'runs:/{run_id}/model', 'rent_model')"
   ]
  },
  {
   "cell_type": "code",
   "execution_count": 27,
   "id": "fe43097d",
   "metadata": {},
   "outputs": [
    {
     "data": {
      "text/plain": [
       "<ModelVersion: aliases=[], creation_timestamp=1698975771841, current_stage='Production', description='', last_updated_timestamp=1698975924210, name='rent_model', run_id='2ca1701d1142453f97a6dd7d88669748', run_link='', source='s3://pea-dmc-bucket/879546609870824623/2ca1701d1142453f97a6dd7d88669748/artifacts/model', status='READY', status_message='', tags={}, user_id='', version='1'>"
      ]
     },
     "execution_count": 27,
     "metadata": {},
     "output_type": "execute_result"
    }
   ],
   "source": [
    "client = mlflow.tracking.MlflowClient()\n",
    "client.transition_model_version_stage(\n",
    "    name='rent_model',\n",
    "    version='1',\n",
    "    stage='Production'\n",
    ")"
   ]
  },
  {
   "cell_type": "code",
   "execution_count": null,
   "id": "9512fa92",
   "metadata": {},
   "outputs": [],
   "source": []
  },
  {
   "cell_type": "code",
   "execution_count": 28,
   "id": "05e5160c",
   "metadata": {},
   "outputs": [
    {
     "data": {
      "application/vnd.jupyter.widget-view+json": {
       "model_id": "3152a1679ff6461685b559461bb46700",
       "version_major": 2,
       "version_minor": 0
      },
      "text/plain": [
       "Downloading artifacts:   0%|          | 0/5 [00:00<?, ?it/s]"
      ]
     },
     "metadata": {},
     "output_type": "display_data"
    },
    {
     "name": "stdout",
     "output_type": "stream",
     "text": [
      "[LightGBM] [Warning] feature_fraction is set=1.0, colsample_bytree=1.0 will be ignored. Current value: feature_fraction=1.0\n",
      "[LightGBM] [Warning] bagging_fraction is set=0.6, subsample=1.0 will be ignored. Current value: bagging_fraction=0.6\n",
      "[LightGBM] [Warning] bagging_freq is set=2, subsample_freq=0 will be ignored. Current value: bagging_freq=2\n"
     ]
    },
    {
     "data": {
      "text/plain": [
       "array([12677.37053666, 11971.8159973 ,  8980.08247125, ...,\n",
       "       38607.39258275, 28713.4683281 , 16998.8463084 ])"
      ]
     },
     "execution_count": 28,
     "metadata": {},
     "output_type": "execute_result"
    }
   ],
   "source": [
    "logged_model = 'models:/rent_model/1'\n",
    "\n",
    "# Load model as a PyFuncModel.\n",
    "loaded_model = mlflow.pyfunc.load_model(logged_model)\n",
    "\n",
    "# Predict on a Pandas DataFrame.\n",
    "\n",
    "loaded_model.predict(data.drop(columns=exclude+['Rent']))"
   ]
  },
  {
   "cell_type": "code",
   "execution_count": null,
   "id": "92d7bf64",
   "metadata": {},
   "outputs": [],
   "source": []
  },
  {
   "cell_type": "code",
   "execution_count": 29,
   "id": "70a13030",
   "metadata": {},
   "outputs": [
    {
     "data": {
      "application/vnd.jupyter.widget-view+json": {
       "model_id": "fa72e54b8c74467cadfd472d5e4cebd5",
       "version_major": 2,
       "version_minor": 0
      },
      "text/plain": [
       "Downloading artifacts:   0%|          | 0/5 [00:00<?, ?it/s]"
      ]
     },
     "metadata": {},
     "output_type": "display_data"
    },
    {
     "name": "stdout",
     "output_type": "stream",
     "text": [
      "[LightGBM] [Warning] feature_fraction is set=1.0, colsample_bytree=1.0 will be ignored. Current value: feature_fraction=1.0\n",
      "[LightGBM] [Warning] bagging_fraction is set=0.6, subsample=1.0 will be ignored. Current value: bagging_fraction=0.6\n",
      "[LightGBM] [Warning] bagging_freq is set=2, subsample_freq=0 will be ignored. Current value: bagging_freq=2\n"
     ]
    },
    {
     "data": {
      "text/plain": [
       "array([12677.37053666, 11971.8159973 ,  8980.08247125, ...,\n",
       "       38607.39258275, 28713.4683281 , 16998.8463084 ])"
      ]
     },
     "execution_count": 29,
     "metadata": {},
     "output_type": "execute_result"
    }
   ],
   "source": [
    "logged_model = 'models:/rent_model/Production'\n",
    "\n",
    "# Load model as a PyFuncModel.\n",
    "loaded_model = mlflow.pyfunc.load_model(logged_model)\n",
    "\n",
    "# Predict on a Pandas DataFrame.\n",
    "\n",
    "loaded_model.predict(data.drop(columns=exclude+['Rent']))"
   ]
  },
  {
   "cell_type": "code",
   "execution_count": null,
   "id": "546eaa02",
   "metadata": {},
   "outputs": [],
   "source": []
  }
 ],
 "metadata": {
  "kernelspec": {
   "display_name": "Python 3 (ipykernel)",
   "language": "python",
   "name": "python3"
  },
  "language_info": {
   "codemirror_mode": {
    "name": "ipython",
    "version": 3
   },
   "file_extension": ".py",
   "mimetype": "text/x-python",
   "name": "python",
   "nbconvert_exporter": "python",
   "pygments_lexer": "ipython3",
   "version": "3.8.5"
  }
 },
 "nbformat": 4,
 "nbformat_minor": 5
}
